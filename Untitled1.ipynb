{
  "nbformat": 4,
  "nbformat_minor": 0,
  "metadata": {
    "colab": {
      "provenance": [],
      "authorship_tag": "ABX9TyMnUhfknlAH7xHeKYlHWY0s",
      "include_colab_link": true
    },
    "kernelspec": {
      "name": "python3",
      "display_name": "Python 3"
    },
    "language_info": {
      "name": "python"
    }
  },
  "cells": [
    {
      "cell_type": "markdown",
      "metadata": {
        "id": "view-in-github",
        "colab_type": "text"
      },
      "source": [
        "<a href=\"https://colab.research.google.com/github/AmitK0105/AmitK0105/blob/main/Untitled1.ipynb\" target=\"_parent\"><img src=\"https://colab.research.google.com/assets/colab-badge.svg\" alt=\"Open In Colab\"/></a>"
      ]
    },
    {
      "cell_type": "code",
      "execution_count": 1,
      "metadata": {
        "colab": {
          "base_uri": "https://localhost:8080/"
        },
        "id": "w2RfV2ZZRkVA",
        "outputId": "8c510ead-55a7-4de6-c920-05e0c364ea2e"
      },
      "outputs": [
        {
          "output_type": "stream",
          "name": "stdout",
          "text": [
            "Input the side of the tringle\n",
            "A :10\n",
            "B :20\n",
            "C :10\n",
            "Isosceles Tringle\n"
          ]
        }
      ],
      "source": [
        "# question 4\n",
        "print(\"Input the side of the tringle\")\n",
        "a= int(input(\"A :\"))\n",
        "b= int(input(\"B :\"))\n",
        "c= int(input(\"C :\"))\n",
        "if a ==b==c:\n",
        "  print(\"Equilateral Tringle\")\n",
        "elif a==b or b==c or c==a:\n",
        "  print(\"Isosceles Tringle\")\n",
        "else:\n",
        "  print(\"Scalene Tringle\")"
      ]
    },
    {
      "cell_type": "code",
      "source": [
        "# Question 5\n",
        "def calculate_lcm(x,y):\n",
        "  if x>y:\n",
        "   greater=x\n",
        "  else:\n",
        "   greater=y\n",
        "  while(True):\n",
        "   if(greater % x ==0) and (greater % y ==0):\n",
        "     lcm= greater\n",
        "   else:\n",
        "    lcm=x*y\n",
        "    return lcm\n",
        "\n",
        "num1 =int(input(\"Enter the first number\"))\n",
        "num2 = int(input(\"Enter the second number\"))\n",
        "print(\"The LCM of \", num1, \"and\", num2, \"is\", calculate_lcm(num1, num2) )\n"
      ],
      "metadata": {
        "colab": {
          "base_uri": "https://localhost:8080/"
        },
        "id": "bI57gQs6VM5u",
        "outputId": "45d69c33-c649-4422-8d89-87fa237dd40d"
      },
      "execution_count": 17,
      "outputs": [
        {
          "output_type": "stream",
          "name": "stdout",
          "text": [
            "Enter the first number7\n",
            "Enter the second number3\n",
            "The LCM of  7 and 3 is 21\n"
          ]
        }
      ]
    },
    {
      "cell_type": "code",
      "source": [
        "# question 6\n",
        "num = int(input(\"Enter a number\"))\n",
        "temp= num\n",
        "rev=0\n",
        "while(num>0):\n",
        "  dig= num%10\n",
        "  rev=rev*10+dig\n",
        "  num= num//10\n",
        "\n",
        "if(temp==rev):\n",
        "  print(\"The number is palindrome\")\n",
        "\n",
        "else:\n",
        "  print(\"The number is not a plaindrome\")"
      ],
      "metadata": {
        "colab": {
          "base_uri": "https://localhost:8080/"
        },
        "id": "FvZgPzI-cQR2",
        "outputId": "79b9508b-bb61-49f3-9fb9-e86320d3c497"
      },
      "execution_count": 18,
      "outputs": [
        {
          "output_type": "stream",
          "name": "stdout",
          "text": [
            "Enter a number1001\n",
            "The number is palindrome\n"
          ]
        }
      ]
    },
    {
      "cell_type": "code",
      "source": [
        "# Question- 7\n",
        "num= int(input(\"Enter a number\"))\n",
        "if num >1:\n",
        "  for i in range(2, int(num/2)+1):\n",
        "    if (num % i)==0:\n",
        "      print(num, \"is not a prime number\")\n",
        "      break\n",
        "  else:\n",
        "      print(num, \"is a prime number\")\n",
        "else:\n",
        "  print(num, \"is not a prime number\")\n"
      ],
      "metadata": {
        "colab": {
          "base_uri": "https://localhost:8080/"
        },
        "id": "8cjtNlKweDKV",
        "outputId": "c4432767-f198-4e25-917d-d968fea94185"
      },
      "execution_count": 22,
      "outputs": [
        {
          "output_type": "stream",
          "name": "stdout",
          "text": [
            "Enter a number17\n",
            "17 is a prime number\n"
          ]
        }
      ]
    },
    {
      "cell_type": "code",
      "source": [
        "# Question- 8\n",
        "x = int(input(\"Enter the value of x: \"))\n",
        "y=  int(input(\"Enter the value of y: \"))\n",
        "print(\" Number before swaping x\",x, \"Number before swaping y\", y)\n",
        "x= x+y\n",
        "y= x-y\n",
        "x= x-y\n",
        "\n",
        "print(\"Number after swap x\", x, \"Number after swap y\", y)"
      ],
      "metadata": {
        "colab": {
          "base_uri": "https://localhost:8080/"
        },
        "id": "DA8lQMCcilb2",
        "outputId": "a8dfa08a-9992-434c-d959-5c479fa0c6c2"
      },
      "execution_count": 23,
      "outputs": [
        {
          "output_type": "stream",
          "name": "stdout",
          "text": [
            "Enter the value of x: 10\n",
            "Enter the value of y: 12\n",
            " Number before swaping x 10 Number before swaping y 12\n",
            "Number after swap x 12 Number after swap y 10\n"
          ]
        }
      ]
    },
    {
      "cell_type": "code",
      "source": [
        "#Question- 9\n",
        "import numpy as np\n",
        "r = np.random.rand(4,2)\n",
        "print(r)\n",
        "a = np.zeros((3,3))\n",
        "print(a)"
      ],
      "metadata": {
        "colab": {
          "base_uri": "https://localhost:8080/"
        },
        "id": "245oso73lm_Q",
        "outputId": "a2ab9834-5200-498e-d110-f9263aae9963"
      },
      "execution_count": 25,
      "outputs": [
        {
          "output_type": "stream",
          "name": "stdout",
          "text": [
            "[[0.34748866 0.23135279]\n",
            " [0.00571355 0.28135551]\n",
            " [0.04804718 0.67880844]\n",
            " [0.69585934 0.11049876]]\n",
            "[[0. 0. 0.]\n",
            " [0. 0. 0.]\n",
            " [0. 0. 0.]]\n"
          ]
        }
      ]
    },
    {
      "cell_type": "code",
      "source": [
        "# Question -10\n",
        "No_of_people_voted = []"
      ],
      "metadata": {
        "id": "pR2d59VDnH5y"
      },
      "execution_count": null,
      "outputs": []
    }
  ]
}