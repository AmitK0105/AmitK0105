{
  "nbformat": 4,
  "nbformat_minor": 0,
  "metadata": {
    "colab": {
      "provenance": [],
      "authorship_tag": "ABX9TyOHxh1UaRmqffWcYLNLVul4",
      "include_colab_link": true
    },
    "kernelspec": {
      "name": "python3",
      "display_name": "Python 3"
    },
    "language_info": {
      "name": "python"
    }
  },
  "cells": [
    {
      "cell_type": "markdown",
      "metadata": {
        "id": "view-in-github",
        "colab_type": "text"
      },
      "source": [
        "<a href=\"https://colab.research.google.com/github/AmitK0105/AmitK0105/blob/main/Digital_Alchemy.ipynb\" target=\"_parent\"><img src=\"https://colab.research.google.com/assets/colab-badge.svg\" alt=\"Open In Colab\"/></a>"
      ]
    },
    {
      "cell_type": "code",
      "execution_count": 2,
      "metadata": {
        "colab": {
          "base_uri": "https://localhost:8080/"
        },
        "id": "CvmaoKRMlFcz",
        "outputId": "d7a0d70e-1f53-4b2c-e928-7344c66ec845"
      },
      "outputs": [
        {
          "output_type": "stream",
          "name": "stdout",
          "text": [
            "   transaction_id account_id merchant     category  spend_amount\n",
            "0               1       A123  Store A      Grocery          50.0\n",
            "1               2       B456  Store B  Electronics         250.0\n",
            "2               3       A123  Store C     Clothing          80.0\n",
            "3               4       C789  Store A      Grocery          30.0\n",
            "4               5       B456  Store D    Insurance         200.0\n",
            "5               6       C789  Store C     Clothing          40.0\n",
            "6               7       A123  Store B  Electronics         150.0\n",
            "7               8       B456  Store A      Grocery          70.0\n",
            "8               9       C789  Store D    Insurance         180.0\n",
            "9              10       A123  Store B  Electronics         120.0\n",
            "(10, 5)\n"
          ]
        }
      ],
      "source": [
        "# Python Assignment\n",
        "import pandas as pd\n",
        "import numpy as np\n",
        "\n",
        "data=[\n",
        "    {'transaction_id': 1, 'account_id': 'A123', 'merchant': 'Store A', 'category': 'Grocery', 'spend_amount': 50.00},\n",
        "    {'transaction_id': 2, 'account_id': 'B456', 'merchant': 'Store B', 'category': 'Electronics', 'spend_amount': 250.00},\n",
        "    {'transaction_id': 3, 'account_id': 'A123', 'merchant': 'Store C', 'category': 'Clothing', 'spend_amount': 80.00},\n",
        "    {'transaction_id': 4, 'account_id': 'C789', 'merchant': 'Store A', 'category': 'Grocery', 'spend_amount': 30.00},\n",
        "    {'transaction_id': 5, 'account_id': 'B456', 'merchant': 'Store D', 'category': 'Insurance', 'spend_amount': 200.00},\n",
        "    {'transaction_id': 6, 'account_id': 'C789', 'merchant': 'Store C', 'category': 'Clothing', 'spend_amount': 40.00},\n",
        "    {'transaction_id': 7, 'account_id': 'A123', 'merchant': 'Store B', 'category': 'Electronics', 'spend_amount': 150.00},\n",
        "    {'transaction_id': 8, 'account_id': 'B456', 'merchant': 'Store A', 'category': 'Grocery', 'spend_amount': 70.00},\n",
        "    {'transaction_id': 9, 'account_id': 'C789', 'merchant': 'Store D', 'category': 'Insurance', 'spend_amount': 180.00},\n",
        "    {'transaction_id': 10, 'account_id': 'A123', 'merchant': 'Store B', 'category': 'Electronics', 'spend_amount': 120.00}]\n",
        "\n",
        "df_data= pd.DataFrame(data)\n",
        "print(df_data)\n",
        "print(df_data.shape)"
      ]
    },
    {
      "cell_type": "code",
      "source": [
        "# Questions:-\n",
        "\n",
        "#1.Calculate the average spending per customer for this business.\n",
        "#2.Calculate the average spend_amount for each category and identify the category with the highest average spend_amount.\n",
        "#3.Determine the merchants that have at least 2 transactions with spend_amount greater than 100. Provide the list of such merchants.\n",
        "#4.Create a summary report showing the total spend_amount for each account across all merchants. Sort the accounts based on their total spend_amount in descending order.\n",
        "#5.Create report to show customer tier with the value 'Low','Medium','High' based on their total spend_amount by these criteria 1-300,301-500,501+.\n",
        "\n",
        "#Spare Assignment\n",
        "#6.Identify and categorize the top-spending accounts for each merchant. Provide the account_id and the corresponding total spend_amount for each merchant."
      ],
      "metadata": {
        "id": "mAFwmJ5OqRj6"
      },
      "execution_count": null,
      "outputs": []
    },
    {
      "cell_type": "code",
      "source": [
        "# Question 1\n",
        "df_data.groupby(['account_id'])['spend_amount'].mean()"
      ],
      "metadata": {
        "colab": {
          "base_uri": "https://localhost:8080/"
        },
        "id": "3tt0Ik61tnmw",
        "outputId": "25ec8cf2-f6e3-418a-9830-6640eac1462e"
      },
      "execution_count": 10,
      "outputs": [
        {
          "output_type": "execute_result",
          "data": {
            "text/plain": [
              "account_id\n",
              "A123    100.000000\n",
              "B456    173.333333\n",
              "C789     83.333333\n",
              "Name: spend_amount, dtype: float64"
            ]
          },
          "metadata": {},
          "execution_count": 10
        }
      ]
    },
    {
      "cell_type": "code",
      "source": [
        "# Question 2\n",
        "def category_avg(col):\n",
        " avg_cat= df_data.groupby([col])['spend_amount'].mean()\n",
        " avg_cat_highest= pd.DataFrame(avg_cat.sort_values(ascending=False))\n",
        " cat_highest= avg_cat_highest.iloc[0:1]\n",
        " #row_max= avg_cat_highest.loc[cat_highest]\n",
        " print(avg_cat)\n",
        " #print(avg_cat_highest)\n",
        " print(cat_highest)\n",
        "category_avg('category')\n",
        "#category_avg('merchant')\n"
      ],
      "metadata": {
        "colab": {
          "base_uri": "https://localhost:8080/"
        },
        "id": "9jDo_G-ozs2T",
        "outputId": "f7892515-f929-4f7e-9aa0-f17732b8a2d0"
      },
      "execution_count": 76,
      "outputs": [
        {
          "output_type": "stream",
          "name": "stdout",
          "text": [
            "category\n",
            "Clothing        60.000000\n",
            "Electronics    173.333333\n",
            "Grocery         50.000000\n",
            "Insurance      190.000000\n",
            "Name: spend_amount, dtype: float64\n",
            "           spend_amount\n",
            "category               \n",
            "Insurance         190.0\n"
          ]
        }
      ]
    },
    {
      "cell_type": "code",
      "source": [
        "#Question 3\n",
        "def merchant_con(col):\n",
        "  merchant_df= df_data.groupby([col])['spend_amount'].agg(['count', 'sum'])\n",
        "  merchant_df1= merchant_df.loc[(merchant_df['sum']>=100) & (merchant_df['count']>=2)]\n",
        "  #print(merchant_df)\n",
        "  print(merchant_df1)\n",
        "\n",
        "\n",
        "merchant_con('merchant')"
      ],
      "metadata": {
        "colab": {
          "base_uri": "https://localhost:8080/"
        },
        "id": "JiDtQtRHMEfn",
        "outputId": "c79af265-e700-4627-9461-58322d1f3a44"
      },
      "execution_count": 109,
      "outputs": [
        {
          "output_type": "stream",
          "name": "stdout",
          "text": [
            "          count    sum\n",
            "merchant              \n",
            "Store A       3  150.0\n",
            "Store B       3  520.0\n",
            "Store C       2  120.0\n",
            "Store D       2  380.0\n"
          ]
        }
      ]
    },
    {
      "cell_type": "code",
      "source": [
        "#Question 4\n",
        "\n",
        "def account_lev(col1,col2):\n",
        "  account_df= df_data.groupby([col1,col2])['spend_amount'].sum()\n",
        "  sorted_account= pd.DataFrame(account_df.sort_values(ascending=False))\n",
        "  print(account_df)\n",
        "  print(sorted_account)\n",
        "  sorted_df1 = account_df.iloc[0:3]\n",
        "  print(sorted_df1)\n",
        "\n",
        "account_lev('account_id', 'merchant')\n",
        "\n"
      ],
      "metadata": {
        "colab": {
          "base_uri": "https://localhost:8080/"
        },
        "id": "laR1okh-eBbU",
        "outputId": "cdb71697-91d5-46ca-8e5c-dfe0570deedb"
      },
      "execution_count": 16,
      "outputs": [
        {
          "output_type": "stream",
          "name": "stdout",
          "text": [
            "account_id  merchant\n",
            "A123        Store A      50.0\n",
            "            Store B     270.0\n",
            "            Store C      80.0\n",
            "B456        Store A      70.0\n",
            "            Store B     250.0\n",
            "            Store D     200.0\n",
            "C789        Store A      30.0\n",
            "            Store C      40.0\n",
            "            Store D     180.0\n",
            "Name: spend_amount, dtype: float64\n",
            "                     spend_amount\n",
            "account_id merchant              \n",
            "A123       Store B          270.0\n",
            "B456       Store B          250.0\n",
            "           Store D          200.0\n",
            "C789       Store D          180.0\n",
            "A123       Store C           80.0\n",
            "B456       Store A           70.0\n",
            "A123       Store A           50.0\n",
            "C789       Store C           40.0\n",
            "           Store A           30.0\n",
            "account_id  merchant\n",
            "A123        Store A      50.0\n",
            "            Store B     270.0\n",
            "            Store C      80.0\n",
            "Name: spend_amount, dtype: float64\n"
          ]
        }
      ]
    },
    {
      "cell_type": "code",
      "source": [
        "# Question 5\n",
        "Lebel_df= df_data.groupby(['account_id'])['spend_amount'].sum()\n",
        "Lebel_df1=pd.DataFrame(Lebel_df)\n",
        "def condition(x):\n",
        "   if x <=300:\n",
        "    return \"low\"\n",
        "   elif x>300 and x<=500:\n",
        "    return \"medium\"\n",
        "   else:\n",
        "    return \"high\"\n",
        "Lebel_df1['Spending_cat']= Lebel_df1['spend_amount'].apply(condition)\n",
        "\n",
        "print(Lebel_df1)"
      ],
      "metadata": {
        "colab": {
          "base_uri": "https://localhost:8080/"
        },
        "id": "6y2eOkW-l51l",
        "outputId": "a13e03cd-8fe0-4e07-87b2-3aab7e2d31e5"
      },
      "execution_count": 14,
      "outputs": [
        {
          "output_type": "stream",
          "name": "stdout",
          "text": [
            "            spend_amount Spending_cat\n",
            "account_id                           \n",
            "A123               400.0       medium\n",
            "B456               520.0         high\n",
            "C789               250.0          low\n"
          ]
        }
      ]
    },
    {
      "cell_type": "code",
      "source": [
        "#  Question 6"
      ],
      "metadata": {
        "id": "lwkCBEbFvIbq"
      },
      "execution_count": null,
      "outputs": []
    }
  ]
}