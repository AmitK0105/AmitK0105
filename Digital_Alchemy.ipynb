{
  "nbformat": 4,
  "nbformat_minor": 0,
  "metadata": {
    "colab": {
      "provenance": [],
      "authorship_tag": "ABX9TyOUZQLfRVBZaCE7F6hxzWdI",
      "include_colab_link": true
    },
    "kernelspec": {
      "name": "python3",
      "display_name": "Python 3"
    },
    "language_info": {
      "name": "python"
    }
  },
  "cells": [
    {
      "cell_type": "markdown",
      "metadata": {
        "id": "view-in-github",
        "colab_type": "text"
      },
      "source": [
        "<a href=\"https://colab.research.google.com/github/AmitK0105/AmitK0105/blob/main/Digital_Alchemy.ipynb\" target=\"_parent\"><img src=\"https://colab.research.google.com/assets/colab-badge.svg\" alt=\"Open In Colab\"/></a>"
      ]
    },
    {
      "cell_type": "code",
      "execution_count": 4,
      "metadata": {
        "colab": {
          "base_uri": "https://localhost:8080/"
        },
        "id": "CvmaoKRMlFcz",
        "outputId": "55e3e79f-4430-434b-d569-1aa6c99f3f8d"
      },
      "outputs": [
        {
          "output_type": "stream",
          "name": "stdout",
          "text": [
            "   transaction_id account_id merchant     category  spend_amount\n",
            "0               1       A123  Store A      Grocery          50.0\n",
            "1               2       B456  Store B  Electronics         250.0\n",
            "2               3       A123  Store C     Clothing          80.0\n",
            "3               4       C789  Store A      Grocery          30.0\n",
            "4               5       B456  Store D    Insurance         200.0\n",
            "5               6       C789  Store C     Clothing          40.0\n",
            "6               7       A123  Store B  Electronics         150.0\n",
            "7               8       B456  Store A      Grocery          70.0\n",
            "8               9       C789  Store D    Insurance         180.0\n",
            "9              10       A123  Store B  Electronics         120.0\n",
            "(10, 5)\n"
          ]
        }
      ],
      "source": [
        "# Python Assignment\n",
        "import pandas as pd\n",
        "import numpy as np\n",
        "\n",
        "data=[\n",
        "    {'transaction_id': 1, 'account_id': 'A123', 'merchant': 'Store A', 'category': 'Grocery', 'spend_amount': 50.00},\n",
        "    {'transaction_id': 2, 'account_id': 'B456', 'merchant': 'Store B', 'category': 'Electronics', 'spend_amount': 250.00},\n",
        "    {'transaction_id': 3, 'account_id': 'A123', 'merchant': 'Store C', 'category': 'Clothing', 'spend_amount': 80.00},\n",
        "    {'transaction_id': 4, 'account_id': 'C789', 'merchant': 'Store A', 'category': 'Grocery', 'spend_amount': 30.00},\n",
        "    {'transaction_id': 5, 'account_id': 'B456', 'merchant': 'Store D', 'category': 'Insurance', 'spend_amount': 200.00},\n",
        "    {'transaction_id': 6, 'account_id': 'C789', 'merchant': 'Store C', 'category': 'Clothing', 'spend_amount': 40.00},\n",
        "    {'transaction_id': 7, 'account_id': 'A123', 'merchant': 'Store B', 'category': 'Electronics', 'spend_amount': 150.00},\n",
        "    {'transaction_id': 8, 'account_id': 'B456', 'merchant': 'Store A', 'category': 'Grocery', 'spend_amount': 70.00},\n",
        "    {'transaction_id': 9, 'account_id': 'C789', 'merchant': 'Store D', 'category': 'Insurance', 'spend_amount': 180.00},\n",
        "    {'transaction_id': 10, 'account_id': 'A123', 'merchant': 'Store B', 'category': 'Electronics', 'spend_amount': 120.00}]\n",
        "\n",
        "df_data= pd.DataFrame(data)\n",
        "print(df_data)\n",
        "print(df_data.shape)"
      ]
    },
    {
      "cell_type": "code",
      "source": [
        "# Questions:-\n",
        "\n",
        "#1.Calculate the average spending per customer for this business.\n",
        "#2.Calculate the average spend_amount for each category and identify the category with the highest average spend_amount.\n",
        "#3.Determine the merchants that have at least 2 transactions with spend_amount greater than 100. Provide the list of such merchants.\n",
        "#4.Create a summary report showing the total spend_amount for each account across all merchants. Sort the accounts based on their total spend_amount in descending order.\n",
        "#5.Create report to show customer tier with the value 'Low','Medium','High' based on their total spend_amount by these criteria 1-300,301-500,501+.\n",
        "\n",
        "#Spare Assignment\n",
        "#6.Identify and categorize the top-spending accounts for each merchant. Provide the account_id and the corresponding total spend_amount for each merchant."
      ],
      "metadata": {
        "id": "mAFwmJ5OqRj6"
      },
      "execution_count": null,
      "outputs": []
    },
    {
      "cell_type": "code",
      "source": [
        "# Question 1\n",
        "df_data.groupby(['account_id'])['spend_amount'].mean()"
      ],
      "metadata": {
        "colab": {
          "base_uri": "https://localhost:8080/"
        },
        "id": "3tt0Ik61tnmw",
        "outputId": "25ec8cf2-f6e3-418a-9830-6640eac1462e"
      },
      "execution_count": 10,
      "outputs": [
        {
          "output_type": "execute_result",
          "data": {
            "text/plain": [
              "account_id\n",
              "A123    100.000000\n",
              "B456    173.333333\n",
              "C789     83.333333\n",
              "Name: spend_amount, dtype: float64"
            ]
          },
          "metadata": {},
          "execution_count": 10
        }
      ]
    },
    {
      "cell_type": "code",
      "source": [
        "# Question 2\n",
        "def category_avg(col):\n",
        " avg_cat= df_data.groupby([col])['spend_amount'].mean()\n",
        " avg_cat_highest= pd.DataFrame(avg_cat.sort_values(ascending=False))\n",
        " cat_highest= avg_cat_highest.iloc[0:1]\n",
        " #row_max= avg_cat_highest.loc[cat_highest]\n",
        " print(avg_cat)\n",
        " #print(avg_cat_highest)\n",
        " print(cat_highest)\n",
        "category_avg('category')\n",
        "#category_avg('merchant')\n"
      ],
      "metadata": {
        "colab": {
          "base_uri": "https://localhost:8080/"
        },
        "id": "9jDo_G-ozs2T",
        "outputId": "f7892515-f929-4f7e-9aa0-f17732b8a2d0"
      },
      "execution_count": 76,
      "outputs": [
        {
          "output_type": "stream",
          "name": "stdout",
          "text": [
            "category\n",
            "Clothing        60.000000\n",
            "Electronics    173.333333\n",
            "Grocery         50.000000\n",
            "Insurance      190.000000\n",
            "Name: spend_amount, dtype: float64\n",
            "           spend_amount\n",
            "category               \n",
            "Insurance         190.0\n"
          ]
        }
      ]
    },
    {
      "cell_type": "code",
      "source": [
        "#Question 3\n",
        "def merchant_con(col):\n",
        " count_merchant= df_data.groupby([col]).agg['sum', 'count']\n",
        " #merchant_value= pd.DataFrame(avg_cat.sort_values(ascending=False))\n",
        " #cat_highest= avg_cat_highest.iloc[0:1]\n",
        " #row_max= avg_cat_highest.loc[cat_highest]\n",
        " print(count_merchant)\n",
        " #print(avg_cat_highest)\n",
        " #print(cat_highest)\n",
        "#category_avg('category')\n",
        "category_avg('merchant')\n"
      ],
      "metadata": {
        "colab": {
          "base_uri": "https://localhost:8080/"
        },
        "id": "JiDtQtRHMEfn",
        "outputId": "2ecab172-3ae9-4d62-8abe-ae30ff745f4d"
      },
      "execution_count": 83,
      "outputs": [
        {
          "output_type": "stream",
          "name": "stdout",
          "text": [
            "merchant\n",
            "Store A     50.000000\n",
            "Store B    173.333333\n",
            "Store C     60.000000\n",
            "Store D    190.000000\n",
            "Name: spend_amount, dtype: float64\n",
            "          spend_amount\n",
            "merchant              \n",
            "Store D          190.0\n"
          ]
        }
      ]
    }
  ]
}